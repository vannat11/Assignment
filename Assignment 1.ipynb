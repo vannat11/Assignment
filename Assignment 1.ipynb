{
 "cells": [
  {
   "cell_type": "code",
   "execution_count": 1,
   "metadata": {},
   "outputs": [],
   "source": [
    "import fitz"
   ]
  },
  {
   "cell_type": "code",
   "execution_count": 3,
   "metadata": {},
   "outputs": [],
   "source": [
    "pdf_path = \"/Users/vaninararajan/Desktop/keppel-corporation-limited-annual-report-2018.pdf\"\n"
   ]
  },
  {
   "cell_type": "code",
   "execution_count": 4,
   "metadata": {},
   "outputs": [],
   "source": [
    "pdf = fitz.open(pdf_path)"
   ]
  },
  {
   "cell_type": "code",
   "execution_count": 5,
   "metadata": {},
   "outputs": [
    {
     "data": {
      "text/plain": [
       "{'format': 'PDF 1.6',\n",
       " 'title': '',\n",
       " 'author': '',\n",
       " 'subject': '',\n",
       " 'keywords': '',\n",
       " 'creator': 'Adobe InDesign CC 2017 (Macintosh)',\n",
       " 'producer': 'Adobe PDF Library 15.0',\n",
       " 'creationDate': \"D:20190314111838+08'00'\",\n",
       " 'modDate': \"D:20190314114440+08'00'\",\n",
       " 'trapped': '',\n",
       " 'encryption': None}"
      ]
     },
     "execution_count": 5,
     "metadata": {},
     "output_type": "execute_result"
    }
   ],
   "source": [
    "pdf.metadata"
   ]
  },
  {
   "cell_type": "code",
   "execution_count": 6,
   "metadata": {},
   "outputs": [
    {
     "data": {
      "text/plain": [
       "[]"
      ]
     },
     "execution_count": 6,
     "metadata": {},
     "output_type": "execute_result"
    }
   ],
   "source": [
    "pdf.get_toc()"
   ]
  },
  {
   "cell_type": "code",
   "execution_count": 8,
   "metadata": {},
   "outputs": [
    {
     "data": {
      "text/plain": [
       "230"
      ]
     },
     "execution_count": 8,
     "metadata": {},
     "output_type": "execute_result"
    }
   ],
   "source": [
    "pdf.page_count"
   ]
  },
  {
   "cell_type": "code",
   "execution_count": 47,
   "metadata": {},
   "outputs": [],
   "source": [
    "#text_pdf = pdf.load_page(2).get_text().replace('\\xa0','')"
   ]
  },
  {
   "cell_type": "code",
   "execution_count": 46,
   "metadata": {},
   "outputs": [
    {
     "data": {
      "text/plain": [
       "[(266.00311279296875,\n",
       "  575.34765625,\n",
       "  430.999755859375,\n",
       "  633.81640625,\n",
       "  'Transforming \\nto Deliver\\n',\n",
       "  0,\n",
       "  0),\n",
       " (266.0032043457031,\n",
       "  639.489501953125,\n",
       "  523.821533203125,\n",
       "  717.552001953125,\n",
       "  'The building blocks of our transformation \\nas\\xa0a\\xa0provider\\xa0of solutions for sustainable \\nurbanisation\\xa0are in place. We will focus on \\nexecuting\\xa0and delivering on our growth initiatives \\nto\\xa0create value for all our stakeholders.\\n',\n",
       "  1,\n",
       "  0)]"
      ]
     },
     "execution_count": 46,
     "metadata": {},
     "output_type": "execute_result"
    }
   ],
   "source": [
    " pdf.load_page(2).get_text(\"blocks\")"
   ]
  },
  {
   "cell_type": "code",
   "execution_count": 56,
   "metadata": {},
   "outputs": [
    {
     "ename": "AttributeError",
     "evalue": "'str' object has no attribute 'get_text'",
     "output_type": "error",
     "traceback": [
      "\u001b[0;31m---------------------------------------------------------------------------\u001b[0m",
      "\u001b[0;31mAttributeError\u001b[0m                            Traceback (most recent call last)",
      "\u001b[0;32m<ipython-input-56-b85e7ef0a583>\u001b[0m in \u001b[0;36m<module>\u001b[0;34m\u001b[0m\n\u001b[1;32m      1\u001b[0m \u001b[0mparagraph1\u001b[0m \u001b[0;34m=\u001b[0m \u001b[0mtext_pdf\u001b[0m\u001b[0;34m.\u001b[0m\u001b[0msplit\u001b[0m\u001b[0;34m(\u001b[0m\u001b[0;34m\"\\n\"\u001b[0m\u001b[0;34m)\u001b[0m\u001b[0;34m\u001b[0m\u001b[0;34m\u001b[0m\u001b[0m\n\u001b[0;32m----> 2\u001b[0;31m \u001b[0mparagraphs\u001b[0m \u001b[0;34m=\u001b[0m \u001b[0mtext_pdf\u001b[0m\u001b[0;34m.\u001b[0m\u001b[0mget_text\u001b[0m\u001b[0;34m(\u001b[0m\u001b[0;34m\"blocks\"\u001b[0m\u001b[0;34m)\u001b[0m\u001b[0;34m.\u001b[0m\u001b[0msplit\u001b[0m\u001b[0;34m(\u001b[0m\u001b[0;34m'\\n'\u001b[0m\u001b[0;34m)\u001b[0m\u001b[0;34m\u001b[0m\u001b[0;34m\u001b[0m\u001b[0m\n\u001b[0m\u001b[1;32m      3\u001b[0m \u001b[0mprint\u001b[0m\u001b[0;34m(\u001b[0m\u001b[0mparagraphs\u001b[0m\u001b[0;34m)\u001b[0m\u001b[0;34m\u001b[0m\u001b[0;34m\u001b[0m\u001b[0m\n",
      "\u001b[0;31mAttributeError\u001b[0m: 'str' object has no attribute 'get_text'"
     ]
    }
   ],
   "source": [
    "paragraph1 = text_pdf.split(\"\\n\")\n",
    "paragraphs = text_pdf.get_text(\"blocks\").split('\\n')\n",
    "print(paragraphs)"
   ]
  },
  {
   "cell_type": "code",
   "execution_count": 75,
   "metadata": {},
   "outputs": [
    {
     "name": "stdout",
     "output_type": "stream",
     "text": [
      "[(-1.1476484537124634, -1.03570556640625, 1191.60400390625, 842.892333984375, '<image: DeviceCMYK, width: 2485, height: 1759, bpc: 8>', 0, 1), (42.51969909667969, 179.12939453125, 272.9565734863281, 259.31689453125, 'Seizing New \\nOpportunities \\n', 1, 0), (42.51969909667969, 276.42535400390625, 431.65753173828125, 452.8315734863281, 'Urbanisation trends present many exciting and interconnected \\nopportunities for Keppel, whether it is providing energy, \\nproperty,\\xa0environmental solutions or connectivity. With a view \\nto developing future growth engines, we are actively exploring \\nand investing in new businesses such as senior living and \\nrenewable energy infrastructure. We are also expanding our \\npresence in consumer businesses including electricity retail, \\nurban logistics and telecommunications. In Singapore, \\nKeppel\\xa0Electric became the largest electricity retailer \\nin\\xa0the\\xa0commercial and industrial sector, as well as a \\nleader\\xa0in\\xa0initial phases of the Open Electricity Market.\\n', 2, 0), (42.51969909667969, 485.220947265625, 195.3473663330078, 518.033447265625, 'Over 50,000\\n', 3, 0), (42.51969909667969, 517.746337890625, 198.2528533935547, 582.636962890625, 'Household customers \\nsecured in\\xa0the\\xa0initial phases \\nof the Open\\xa0Electricity Market, \\nexpanding\\xa0Keppel’s presence in \\nconsumer businesses.\\n', 4, 0)]\n"
     ]
    }
   ],
   "source": [
    " # Get the text in the page\n",
    "blocks = pdf.load_page(4).get_text(\"blocks\")\n",
    "print(blocks)    \n",
    "# Split the text into paragraphs\n",
    "#paragraphs = text.split(\"\\n\")\n",
    "#print(paragraphs)\n"
   ]
  },
  {
   "cell_type": "code",
   "execution_count": 76,
   "metadata": {},
   "outputs": [],
   "source": [
    "# Sort the paragraphs in reading order\n",
    "paragraphs.sort(key=lambda p: (float(p.split(\",\")[1]), float(p.split(\",\")[0])))\n"
   ]
  },
  {
   "cell_type": "code",
   "execution_count": 65,
   "metadata": {},
   "outputs": [
    {
     "name": "stdout",
     "output_type": "stream",
     "text": [
      "['15,10', '10,20', '5,30']\n"
     ]
    }
   ],
   "source": [
    "#sample data\n",
    "paragraphs = [\"10,20\", \"5,30\", \"15,10\"]\n",
    "paragraphs.sort(key=lambda p: (float(p.split(\",\")[1]), float(p.split(\",\")[0])))\n",
    "print(paragraphs)"
   ]
  },
  {
   "cell_type": "code",
   "execution_count": 50,
   "metadata": {},
   "outputs": [
    {
     "name": "stdout",
     "output_type": "stream",
     "text": [
      "Transforming \n",
      "to Deliver\n",
      "The building blocks of our transformation \n",
      "as a provider of solutions for sustainable \n",
      "urbanisation are in place. We will focus on \n",
      "executing and delivering on our growth initiatives \n",
      "to create value for all our stakeholders.\n",
      "\n"
     ]
    }
   ],
   "source": [
    "paragraphs = pdf.load_page(2).get_text(sort=True)\n",
    "print(paragraphs)"
   ]
  },
  {
   "cell_type": "code",
   "execution_count": 83,
   "metadata": {},
   "outputs": [
    {
     "name": "stdout",
     "output_type": "stream",
     "text": [
      "<image: DeviceCMYK, width: 2485, height: 1759, bpc: 8>\n",
      "Seizing New \n",
      "Opportunities \n",
      "\n",
      "Urbanisation trends present many exciting and interconnected \n",
      "opportunities for Keppel, whether it is providing energy, \n",
      "property, environmental solutions or connectivity. With a view \n",
      "to developing future growth engines, we are actively exploring \n",
      "and investing in new businesses such as senior living and \n",
      "renewable energy infrastructure. We are also expanding our \n",
      "presence in consumer businesses including electricity retail, \n",
      "urban logistics and telecommunications. In Singapore, \n",
      "Keppel Electric became the largest electricity retailer \n",
      "in the commercial and industrial sector, as well as a \n",
      "leader in initial phases of the Open Electricity Market.\n",
      "\n",
      "Over 50,000\n",
      "\n",
      "Household customers \n",
      "secured in the initial phases \n",
      "of the Open Electricity Market, \n",
      "expanding Keppel’s presence in \n",
      "consumer businesses.\n",
      "\n"
     ]
    }
   ],
   "source": [
    "\n",
    "\n",
    "    # Sort the blocks by their x-coordinate\n",
    "paragraphs.sort(key=lambda b: b[0])\n",
    "\n",
    "    # Determine the average x-coordinate difference between adjacent blocks\n",
    "x_diffs = [blocks[i+1][0] - blocks[i][0] for i in range(len(blocks)-1)]\n",
    "avg_x_diff = sum(x_diffs) / len(x_diffs)\n",
    "\n",
    "    # Group the blocks into columns based on their x-coordinate difference\n",
    "columns = []\n",
    "current_column = [blocks[0]]\n",
    "for block in blocks[1:]:\n",
    "        if block[0] - current_column[-1][0] > avg_x_diff:\n",
    "            columns.append(current_column)\n",
    "            current_column = [block]\n",
    "        else:\n",
    "            current_column.append(block)\n",
    "columns.append(current_column)\n",
    "\n",
    "    # Print the text in each column\n",
    "for column in columns:\n",
    "        text = \"\\n\".join([block[4] for block in column])\n",
    "        print(text)"
   ]
  },
  {
   "cell_type": "code",
   "execution_count": 98,
   "metadata": {},
   "outputs": [],
   "source": [
    "import csv\n",
    "# Write the paragraphs to a CSV file\n",
    "with open(\"file1.csv\", \"w\", newline=\"\") as csvfile:\n",
    "    writer = csv.writer(csvfile)\n",
    "    writer.writerows([text])"
   ]
  },
  {
   "cell_type": "code",
   "execution_count": null,
   "metadata": {},
   "outputs": [],
   "source": []
  },
  {
   "cell_type": "code",
   "execution_count": null,
   "metadata": {},
   "outputs": [],
   "source": []
  },
  {
   "cell_type": "code",
   "execution_count": null,
   "metadata": {},
   "outputs": [],
   "source": []
  },
  {
   "cell_type": "code",
   "execution_count": null,
   "metadata": {},
   "outputs": [],
   "source": []
  },
  {
   "cell_type": "code",
   "execution_count": null,
   "metadata": {},
   "outputs": [],
   "source": []
  },
  {
   "cell_type": "code",
   "execution_count": null,
   "metadata": {},
   "outputs": [],
   "source": []
  },
  {
   "cell_type": "code",
   "execution_count": null,
   "metadata": {},
   "outputs": [],
   "source": []
  }
 ],
 "metadata": {
  "kernelspec": {
   "display_name": "Python 3",
   "language": "python",
   "name": "python3"
  },
  "language_info": {
   "codemirror_mode": {
    "name": "ipython",
    "version": 3
   },
   "file_extension": ".py",
   "mimetype": "text/x-python",
   "name": "python",
   "nbconvert_exporter": "python",
   "pygments_lexer": "ipython3",
   "version": "3.7.2"
  }
 },
 "nbformat": 4,
 "nbformat_minor": 2
}
